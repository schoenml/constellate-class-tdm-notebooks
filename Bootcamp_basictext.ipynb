{
  "nbformat": 4,
  "nbformat_minor": 0,
  "metadata": {
    "colab": {
      "name": "Bootcamp_basictext.ipynb",
      "provenance": [],
      "collapsed_sections": [],
      "include_colab_link": true
    },
    "kernelspec": {
      "display_name": "Python 3",
      "language": "python",
      "name": "python3"
    },
    "language_info": {
      "codemirror_mode": {
        "name": "ipython",
        "version": 3
      },
      "file_extension": ".py",
      "mimetype": "text/x-python",
      "name": "python",
      "nbconvert_exporter": "python",
      "pygments_lexer": "ipython3",
      "version": "3.8.5"
    }
  },
  "cells": [
    {
      "cell_type": "markdown",
      "metadata": {
        "id": "view-in-github",
        "colab_type": "text"
      },
      "source": [
        "<a href=\"https://colab.research.google.com/github/schoenml/constellate-class-tdm-notebooks/blob/master/Bootcamp_basictext.ipynb\" target=\"_parent\"><img src=\"https://colab.research.google.com/assets/colab-badge.svg\" alt=\"Open In Colab\"/></a>"
      ]
    },
    {
      "cell_type": "markdown",
      "metadata": {
        "id": "1-MX6QLb7mQa"
      },
      "source": [
        "# Python Text Analysis Basics \n",
        "\n",
        "In this lesson, we'll go through some of the basic steps of reading text files and analyzing them with Python. \n",
        "\n",
        "* In the introductory part, you'll use simple methods to preprocess a text by cleaning out volume and chapter headers. \n",
        "\n",
        "* In the first part, you'll use very basic tools and methods to scan a text file and count its words.\n",
        "\n",
        "* In the second part, you'll use tools included in Python's Natural Language ToolKit (NLTK) to do the same thing a little more efficienty. \n",
        "\n",
        "* In the third part, you'll graph the top 10 words in a text of your choice using either of these methods. \n",
        "\n"
      ]
    },
    {
      "cell_type": "markdown",
      "metadata": {
        "id": "ByiYRMIaYZRk"
      },
      "source": [
        "# Before you start: \n",
        "## Project Gutenberg and workshop files download \n",
        "\n",
        "Before you get started, go to the Project Gutenberg website (https://www.gutenberg.org/) and search for a text you'd like to analyze in the third part of this tutorial.\n",
        "\n",
        "Once you find your text, click on the title and see the download format options. Download your selected text in **plain-text format with utf-8 encoding**.\n",
        "\n",
        "The easiest way to do this is to right-click or Control+click on the Plain Text UTF-8 link, select 'save link as', and save the txt file to your hard drive with a title you can remember. \n",
        "\n",
        "Download the txt files from the workshop folder in Brightspace, as well, and have them handy on your desktop."
      ]
    },
    {
      "cell_type": "markdown",
      "metadata": {
        "id": "cYM0tjDC_lpJ"
      },
      "source": [
        "# Basic setup: \n",
        "## Import necessary packages, read text files and clean them for analysis"
      ]
    },
    {
      "cell_type": "markdown",
      "metadata": {
        "id": "zLoYI3i9tftb"
      },
      "source": [
        "First of all, we'll import a number of special Python packages for use in this tutorial."
      ]
    },
    {
      "cell_type": "code",
      "metadata": {
        "id": "hGfb__fQi_np"
      },
      "source": [
        "# pyplot, from the package matplotlib, can be used to create a simple bar graph\n",
        "# Here we import pyplot and also rename it 'plt', which is faster to type.\n",
        "\n",
        "import matplotlib.pyplot as plt "
      ],
      "execution_count": 1,
      "outputs": []
    },
    {
      "cell_type": "code",
      "metadata": {
        "id": "edkvzeREf8Bs"
      },
      "source": [
        "# 'Pretty print,' or 'pprint,' is a variation of the print function. \n",
        "# Pprint adds spacing and formatting to complex data structures \n",
        "# so they're easier for humans to read.\n",
        "\n",
        "from pprint import pprint "
      ],
      "execution_count": 2,
      "outputs": []
    },
    {
      "cell_type": "code",
      "metadata": {
        "id": "borkTjQgJJyR",
        "colab": {
          "base_uri": "https://localhost:8080/"
        },
        "outputId": "8ed0ff4f-dc57-43d5-bf9f-758df3baba6f"
      },
      "source": [
        "# We'll also import the Natural Language ToolKit, nltk, which we'll use\n",
        "# later in this tutorial.\n",
        "\n",
        "import nltk\n",
        "\n",
        "# 'punkt' is an nltk dependency that may need to be downloaded separately in Colab\n",
        "nltk.download('punkt') "
      ],
      "execution_count": 3,
      "outputs": [
        {
          "output_type": "stream",
          "text": [
            "[nltk_data] Downloading package punkt to /root/nltk_data...\n",
            "[nltk_data]   Unzipping tokenizers/punkt.zip.\n"
          ],
          "name": "stdout"
        },
        {
          "output_type": "execute_result",
          "data": {
            "text/plain": [
              "True"
            ]
          },
          "metadata": {},
          "execution_count": 3
        }
      ]
    },
    {
      "cell_type": "code",
      "metadata": {
        "id": "Etk_GB2Tja7v"
      },
      "source": [
        "# Finally, import the 'string' package - among other things, this provides a \n",
        "# built-in punctuation list we'll use in the second part of this tutorial.\n",
        "\n",
        "import string  "
      ],
      "execution_count": 5,
      "outputs": []
    },
    {
      "cell_type": "markdown",
      "metadata": {
        "id": "l-kfQOC7A1nk"
      },
      "source": [
        "## Read a file into your python environment 3 ways\n",
        "\n",
        "For this section, we'll work with a previously file downloaded from Project Gutenberg, Jane Austen's *Pride and Prejudice.* \n",
        "\n",
        "Compare three ways of opening reading the contents of this text file into your own Python environment:"
      ]
    },
    {
      "cell_type": "markdown",
      "metadata": {
        "id": "8iLLe-gOAali"
      },
      "source": [
        "**1. read()**"
      ]
    },
    {
      "cell_type": "code",
      "metadata": {
        "id": "u5DDZOMCwi9c",
        "colab": {
          "resources": {
            "http://localhost:8080/nbextensions/google.colab/files.js": {
              "data": "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",
              "ok": true,
              "headers": [
                [
                  "content-type",
                  "application/javascript"
                ]
              ],
              "status": 200,
              "status_text": ""
            }
          },
          "base_uri": "https://localhost:8080/",
          "height": 72
        },
        "outputId": "244626b5-1673-480a-c9cc-0aa1c9767151"
      },
      "source": [
        "# First, upload the file you want to work with. In this case, we'll use\n",
        "# the file Austen_pride.txt - this is a slightly cleaned-up version \n",
        "# of Jane Austen's Pride and Prejudice from Project Gutenberg.\n",
        "\n",
        "from google.colab import files\n",
        "\n",
        "uploaded = files.upload()"
      ],
      "execution_count": 6,
      "outputs": [
        {
          "output_type": "display_data",
          "data": {
            "text/html": [
              "\n",
              "     <input type=\"file\" id=\"files-4da0fd73-7a2f-44de-814d-3bc3b4276091\" name=\"files[]\" multiple disabled\n",
              "        style=\"border:none\" />\n",
              "     <output id=\"result-4da0fd73-7a2f-44de-814d-3bc3b4276091\">\n",
              "      Upload widget is only available when the cell has been executed in the\n",
              "      current browser session. Please rerun this cell to enable.\n",
              "      </output>\n",
              "      <script src=\"/nbextensions/google.colab/files.js\"></script> "
            ],
            "text/plain": [
              "<IPython.core.display.HTML object>"
            ]
          },
          "metadata": {}
        },
        {
          "output_type": "stream",
          "text": [
            "Saving Austen_pride.txt to Austen_pride.txt\n"
          ],
          "name": "stdout"
        }
      ]
    },
    {
      "cell_type": "code",
      "metadata": {
        "id": "ifuTzg4gf9hz",
        "colab": {
          "base_uri": "https://localhost:8080/"
        },
        "outputId": "2c201106-f8bc-4337-d0fa-3c8fb50ee364"
      },
      "source": [
        "# First read the file using the read() method. \n",
        "# read() returns all the file text as one long string. \n",
        "\n",
        "# In the first line, you open the file and specify that you will be reading it only ('r'). \n",
        "# You also create a shorthand, 'f' to refer to it for the rest of this code block.\n",
        "\n",
        "with open('Austen_pride.txt', 'r') as f: \n",
        "  Austen_pride_str = f.read()\n",
        "\n",
        "print(Austen_pride_str[:10]) # Examine the first 300 characters of the string this code returns.\n"
      ],
      "execution_count": 8,
      "outputs": [
        {
          "output_type": "stream",
          "text": [
            "VOL. I.\n",
            "CH\n"
          ],
          "name": "stdout"
        }
      ]
    },
    {
      "cell_type": "markdown",
      "metadata": {
        "id": "yVUMsVvJAlwr"
      },
      "source": [
        "**2. readlines()**"
      ]
    },
    {
      "cell_type": "code",
      "metadata": {
        "id": "6ns4hcgd-Wre",
        "colab": {
          "base_uri": "https://localhost:8080/"
        },
        "outputId": "1f4ad051-e8e2-4213-cd61-947d965b39c3"
      },
      "source": [
        "# Next, use the readlines() method and examine the first two lines.\n",
        "\n",
        "with open('Austen_pride.txt', 'r') as f:\n",
        "  Austen_pride_lines = f.readlines() \n",
        "  \n",
        "pprint(Austen_pride_lines[:10])\n"
      ],
      "execution_count": 9,
      "outputs": [
        {
          "output_type": "stream",
          "text": [
            "['VOL. I.\\n',\n",
            " 'CHAPTER I.\\n',\n",
            " '\\n',\n",
            " '\\n',\n",
            " 'It is a truth universally acknowledged, that a single man in possession\\n',\n",
            " 'of a good fortune, must be in want of a wife.\\n',\n",
            " '\\n',\n",
            " 'However little known the feelings or views of such a man may be on his\\n',\n",
            " 'first entering a neighbourhood, this truth is so well fixed in the minds\\n',\n",
            " 'of the surrounding families, that he is considered as the rightful\\n']\n"
          ],
          "name": "stdout"
        }
      ]
    },
    {
      "cell_type": "markdown",
      "metadata": {
        "id": "00BMkyQPArLH"
      },
      "source": [
        "**3. readlines() + strip()**"
      ]
    },
    {
      "cell_type": "code",
      "metadata": {
        "id": "V7S6Gy1ZAAkL",
        "colab": {
          "base_uri": "https://localhost:8080/"
        },
        "outputId": "a900c96d-fd3e-48e9-82fc-9ecd9ff3b637"
      },
      "source": [
        "# In the above example, you see a lot of this: /n. This is a newline markup character.\n",
        "# Here's one way to strip such formatting markup and whitespace out of your text from the start. We'll continue working with lines of text for now.\n",
        "\n",
        "Austen_pride = [] # create an empty list for the cleaned lines of text\n",
        "with open('Austen_pride.txt', 'r') as f:\n",
        "  for line in f.readlines(): # iterate through the list returned by readlines()\n",
        "    Austen_pride.append(line.strip()) # add each line to the new list, with the newline characters stripped from the right side (rstrip())\n",
        "    \n",
        "pprint(Austen_pride[:100]) # notice that this version is a little cleaner"
      ],
      "execution_count": 11,
      "outputs": [
        {
          "output_type": "stream",
          "text": [
            "['VOL. I.',\n",
            " 'CHAPTER I.',\n",
            " '',\n",
            " '',\n",
            " 'It is a truth universally acknowledged, that a single man in possession',\n",
            " 'of a good fortune, must be in want of a wife.',\n",
            " '',\n",
            " 'However little known the feelings or views of such a man may be on his',\n",
            " 'first entering a neighbourhood, this truth is so well fixed in the minds',\n",
            " 'of the surrounding families, that he is considered as the rightful',\n",
            " 'property of some one or other of their daughters.',\n",
            " '',\n",
            " '\"My dear Mr. Bennet,\" said his lady to him one day, \"have you heard that',\n",
            " 'Netherfield Park is let at last?\"',\n",
            " '',\n",
            " 'Mr. Bennet replied that he had not.',\n",
            " '',\n",
            " '\"But it is,\" returned she; \"for Mrs. Long has just been here, and she',\n",
            " 'told me all about it.\"',\n",
            " '',\n",
            " 'Mr. Bennet made no answer.',\n",
            " '',\n",
            " '\"Do not you want to know who has taken it?\" cried his wife impatiently.',\n",
            " '',\n",
            " '\"_You_ want to tell me, and I have no objection to hearing it.\"',\n",
            " '',\n",
            " 'This was invitation enough.',\n",
            " '',\n",
            " '\"Why, my dear, you must know, Mrs. Long says that Netherfield is taken',\n",
            " 'by a young man of large fortune from the north of England; that he came',\n",
            " 'down on Monday in a chaise and four to see the place, and was so much',\n",
            " 'delighted with it that he agreed with Mr. Morris immediately; that he is',\n",
            " 'to take possession before Michaelmas, and some of his servants are to be',\n",
            " 'in the house by the end of next week.\"',\n",
            " '',\n",
            " '\"What is his name?\"',\n",
            " '',\n",
            " '\"Bingley.\"',\n",
            " '',\n",
            " '\"Is he married or single?\"',\n",
            " '',\n",
            " '\"Oh! single, my dear, to be sure! A single man of large fortune; four',\n",
            " 'or five thousand a year. What a fine thing for our girls!\"',\n",
            " '',\n",
            " '\"How so? how can it affect them?\"',\n",
            " '',\n",
            " '\"My dear Mr. Bennet,\" replied his wife, \"how can you be so tiresome! You',\n",
            " 'must know that I am thinking of his marrying one of them.\"',\n",
            " '',\n",
            " '\"Is that his design in settling here?\"',\n",
            " '',\n",
            " '\"Design! nonsense, how can you talk so! But it is very likely that he',\n",
            " '_may_ fall in love with one of them, and therefore you must visit him as',\n",
            " 'soon as he comes.\"',\n",
            " '',\n",
            " '\"I see no occasion for that. You and the girls may go, or you may send',\n",
            " 'them by themselves, which perhaps will be still better, for as you are',\n",
            " 'as handsome as any of them, Mr. Bingley might like you the best of the',\n",
            " 'party.\"',\n",
            " '',\n",
            " '\"My dear, you flatter me. I certainly _have_ had my share of beauty, but',\n",
            " 'I do not pretend to be any thing extraordinary now. When a woman has',\n",
            " 'five grown up daughters, she ought to give over thinking of her own',\n",
            " 'beauty.\"',\n",
            " '',\n",
            " '\"In such cases, a woman has not often much beauty to think of.\"',\n",
            " '',\n",
            " '\"But, my dear, you must indeed go and see Mr. Bingley when he comes into',\n",
            " 'the neighbourhood.\"',\n",
            " '',\n",
            " '\"It is more than I engage for, I assure you.\"',\n",
            " '',\n",
            " '\"But consider your daughters. Only think what an establishment it would',\n",
            " 'be for one of them. Sir William and Lady Lucas are determined to go,',\n",
            " 'merely on that account, for in general you know they visit no new',\n",
            " 'comers. Indeed you must go, for it will be impossible for _us_ to visit',\n",
            " 'him, if you do not.\"',\n",
            " '',\n",
            " '\"You are over scrupulous surely. I dare say Mr. Bingley will be very',\n",
            " 'glad to see you; and I will send a few lines by you to assure him of my',\n",
            " 'hearty consent to his marrying which ever he chuses of the girls; though',\n",
            " 'I must throw in a good word for my little Lizzy.\"',\n",
            " '',\n",
            " '\"I desire you will do no such thing. Lizzy is not a bit better than the',\n",
            " 'others; and I am sure she is not half so handsome as Jane, nor half so',\n",
            " 'good humoured as Lydia. But you are always giving _her_ the',\n",
            " 'preference.\"',\n",
            " '',\n",
            " '\"They have none of them much to recommend them,\" replied he; \"they are',\n",
            " 'all silly and ignorant like other girls; but Lizzy has something more of',\n",
            " 'quickness than her sisters.\"',\n",
            " '',\n",
            " '\"Mr. Bennet, how can you abuse your own children in such a way? You take',\n",
            " 'delight in vexing me. You have no compassion on my poor nerves.\"',\n",
            " '',\n",
            " '\"You mistake me, my dear. I have a high respect for your nerves. They',\n",
            " 'are my old friends. I have heard you mention them with consideration',\n",
            " 'these twenty years at least.\"',\n",
            " '',\n",
            " '\"Ah! you do not know what I suffer.\"']\n"
          ],
          "name": "stdout"
        }
      ]
    },
    {
      "cell_type": "markdown",
      "metadata": {
        "id": "Em0YjO26CCtv"
      },
      "source": [
        "We'll work with the third version here, Austen_pride.\n",
        "\n",
        "\n",
        "\n",
        "Once you have the text in a fairly clean format, explore it to see what you have to work with. What other kinds of 'noise' might be in this document, and what kinds of cleaning do you have to do so you can focus on only the most salient words and analyze them accurately?"
      ]
    },
    {
      "cell_type": "markdown",
      "metadata": {
        "id": "Jho3kxAfSyIr"
      },
      "source": [
        "# Preprocessing\n",
        "## Exploring and cleaning up your text \n",
        "\n",
        "Computational text analysis involves a lot of *pre-processing* before you even get to the analysis part. \n",
        "\n",
        "The motivation behind cleaning texts is to be sure any features that make it into your analysis really are part of the text you think you're analyzing. Most text files include other kinds of langauge as well, whether that's header material, publisher information, tables of contents or chapter headings, illustrations, or something else. \n",
        "\n",
        "You may occasionally want to include some of this additional material in your analysis. It all depends on the kinds of questions you want to ask of the text. \n",
        "\n",
        "This means that a lot of text preprocessing needs to be decided on a case-by-case or study-by-study basis. The most important thing is to be clear and consistent about your preprocessing decisions.\n",
        "\n",
        "In this example, we're going to strip out the text's volume and chapter headers, so they aren't inclued in our eventual word count."
      ]
    },
    {
      "cell_type": "code",
      "metadata": {
        "id": "6n7RDuzMa9Sv",
        "colab": {
          "base_uri": "https://localhost:8080/"
        },
        "outputId": "469b814c-5255-40f2-e692-76e222e63b19"
      },
      "source": [
        "# pretty print the first 20 lines of this text\n",
        "pprint(Austen_pride[:20])"
      ],
      "execution_count": 12,
      "outputs": [
        {
          "output_type": "stream",
          "text": [
            "['VOL. I.',\n",
            " 'CHAPTER I.',\n",
            " '',\n",
            " '',\n",
            " 'It is a truth universally acknowledged, that a single man in possession',\n",
            " 'of a good fortune, must be in want of a wife.',\n",
            " '',\n",
            " 'However little known the feelings or views of such a man may be on his',\n",
            " 'first entering a neighbourhood, this truth is so well fixed in the minds',\n",
            " 'of the surrounding families, that he is considered as the rightful',\n",
            " 'property of some one or other of their daughters.',\n",
            " '',\n",
            " '\"My dear Mr. Bennet,\" said his lady to him one day, \"have you heard that',\n",
            " 'Netherfield Park is let at last?\"',\n",
            " '',\n",
            " 'Mr. Bennet replied that he had not.',\n",
            " '',\n",
            " '\"But it is,\" returned she; \"for Mrs. Long has just been here, and she',\n",
            " 'told me all about it.\"',\n",
            " '']\n"
          ],
          "name": "stdout"
        }
      ]
    },
    {
      "cell_type": "markdown",
      "metadata": {
        "id": "8mry0ojVYUwM"
      },
      "source": [
        "When we look at these first 20 lines of this text, we get a sense of the strucutre and format of the novel overall: we see that it's separated into volumes, and we see the format for introducing volumes: \"VOL. I.\", in all caps, with roman numerals. We also see that this novel is broken up into chapters, and we see the format for introducing new chapters: \"CHAPTER I.\"  \n"
      ]
    },
    {
      "cell_type": "code",
      "metadata": {
        "id": "kFzLJnvHifhH",
        "colab": {
          "base_uri": "https://localhost:8080/"
        },
        "outputId": "2061b4de-aac9-46f3-eafe-da613981187c"
      },
      "source": [
        "# Let's see what more we can lean about the volume and chapter structure of this book: \n",
        "for line in Austen_pride:\n",
        "  if 'VOL' in line:\n",
        "    print(line)\n",
        "  if 'CHAPTER' in line: \n",
        "    print(line)"
      ],
      "execution_count": 13,
      "outputs": [
        {
          "output_type": "stream",
          "text": [
            "VOL. I.\n",
            "CHAPTER I.\n",
            "CHAPTER II.\n",
            "CHAPTER III.\n",
            "CHAPTER IV.\n",
            "CHAPTER V.\n",
            "CHAPTER VI.\n",
            "CHAPTER VII.\n",
            "CHAPTER VIII.\n",
            "CHAPTER IX.\n",
            "CHAPTER X.\n",
            "CHAPTER XI.\n",
            "CHAPTER XII.\n",
            "CHAPTER XIII.\n",
            "CHAPTER XIV.\n",
            "CHAPTER XV.\n",
            "CHAPTER XVI.\n",
            "CHAPTER XVII.\n",
            "CHAPTER XVIII.\n",
            "CHAPTER XIX.\n",
            "CHAPTER XX.\n",
            "CHAPTER XXI.\n",
            "CHAPTER XXII.\n",
            "CHAPTER XXIII.\n",
            "VOL. II.\n",
            "CHAPTER I.\n",
            "CHAPTER II.\n",
            "CHAPTER III.\n",
            "CHAPTER IV.\n",
            "CHAPTER V.\n",
            "CHAPTER VI.\n",
            "CHAPTER VII.\n",
            "CHAPTER VIII.\n",
            "CHAPTER IX.\n",
            "CHAPTER X.\n",
            "CHAPTER XI.\n",
            "CHAPTER XII.\n",
            "CHAPTER XIII.\n",
            "CHAPTER XIV.\n",
            "CHAPTER XV.\n",
            "CHAPTER XVI.\n",
            "CHAPTER XVII.\n",
            "CHAPTER XVIII.\n",
            "CHAPTER XIX.\n",
            "VOL. III.\n",
            "CHAPTER I.\n",
            "CHAPTER II.\n",
            "CHAPTER III.\n",
            "CHAPTER IV.\n",
            "CHAPTER V.\n",
            "CHAPTER VI.\n",
            "CHAPTER VII.\n",
            "CHAPTER VIII.\n",
            "CHAPTER IX.\n",
            "CHAPTER X.\n",
            "CHAPTER XI.\n",
            "CHAPTER XII.\n",
            "CHAPTER XIII.\n",
            "CHAPTER XIV.\n",
            "CHAPTER XV.\n",
            "CHAPTER XVI.\n",
            "CHAPTER XVII.\n",
            "CHAPTER XVIII.\n",
            "CHAPTER XIX.\n"
          ],
          "name": "stdout"
        }
      ]
    },
    {
      "cell_type": "code",
      "metadata": {
        "id": "dYHI64Ypi3rD"
      },
      "source": [
        "# From the above map of this text, we see that the chapters in different volumes have identical names\n",
        "# Here's an easy way to remove any line that includes volume or chapter headers.\n",
        "\n",
        "for line in Austen_pride:\n",
        "  if 'VOL' in line:\n",
        "    Austen_pride.remove(line)\n",
        "  elif 'CHAPTER' in line: # \"elif\" is a contraction of \"else if\" - a secondary conditional\n",
        "    Austen_pride.remove(line)\n",
        "  else: continue"
      ],
      "execution_count": 14,
      "outputs": []
    },
    {
      "cell_type": "code",
      "metadata": {
        "id": "nsjdo-DAIRco",
        "colab": {
          "base_uri": "https://localhost:8080/"
        },
        "outputId": "a9824eed-6396-4455-d261-c68476c76411"
      },
      "source": [
        "# Let's see what the start of this text looks like now:\n",
        "\n",
        "pprint(Austen_pride[:20])"
      ],
      "execution_count": 15,
      "outputs": [
        {
          "output_type": "stream",
          "text": [
            "['',\n",
            " '',\n",
            " 'It is a truth universally acknowledged, that a single man in possession',\n",
            " 'of a good fortune, must be in want of a wife.',\n",
            " '',\n",
            " 'However little known the feelings or views of such a man may be on his',\n",
            " 'first entering a neighbourhood, this truth is so well fixed in the minds',\n",
            " 'of the surrounding families, that he is considered as the rightful',\n",
            " 'property of some one or other of their daughters.',\n",
            " '',\n",
            " '\"My dear Mr. Bennet,\" said his lady to him one day, \"have you heard that',\n",
            " 'Netherfield Park is let at last?\"',\n",
            " '',\n",
            " 'Mr. Bennet replied that he had not.',\n",
            " '',\n",
            " '\"But it is,\" returned she; \"for Mrs. Long has just been here, and she',\n",
            " 'told me all about it.\"',\n",
            " '',\n",
            " 'Mr. Bennet made no answer.',\n",
            " '']\n"
          ],
          "name": "stdout"
        }
      ]
    },
    {
      "cell_type": "markdown",
      "metadata": {
        "id": "XTFS9_AgFMa4"
      },
      "source": [
        "Just to be tidy, let's get ride of those blank lines..."
      ]
    },
    {
      "cell_type": "code",
      "metadata": {
        "id": "OIobFKls1N8H"
      },
      "source": [
        "for line in Austen_pride:\n",
        "  if len(line) <1:\n",
        "    Austen_pride.remove(line)"
      ],
      "execution_count": 16,
      "outputs": []
    },
    {
      "cell_type": "code",
      "metadata": {
        "id": "S4OU5mto1Xlz",
        "colab": {
          "base_uri": "https://localhost:8080/"
        },
        "outputId": "79d01f9e-5675-425d-d6c1-5dadddd64216"
      },
      "source": [
        "pprint(Austen_pride[:10])"
      ],
      "execution_count": null,
      "outputs": [
        {
          "output_type": "stream",
          "text": [
            "['It is a truth universally acknowledged, that a single man in possession',\n",
            " 'of a good fortune, must be in want of a wife.',\n",
            " 'However little known the feelings or views of such a man may be on his',\n",
            " 'first entering a neighbourhood, this truth is so well fixed in the minds',\n",
            " 'of the surrounding families, that he is considered as the rightful',\n",
            " 'property of some one or other of their daughters.',\n",
            " '\"My dear Mr. Bennet,\" said his lady to him one day, \"have you heard that',\n",
            " 'Netherfield Park is let at last?\"',\n",
            " 'Mr. Bennet replied that he had not.',\n",
            " '\"But it is,\" returned she; \"for Mrs. Long has just been here, and she']\n"
          ],
          "name": "stdout"
        }
      ]
    },
    {
      "cell_type": "markdown",
      "metadata": {
        "id": "-R10c2xClW0b"
      },
      "source": [
        "# Text Analysis Part I\n"
      ]
    },
    {
      "cell_type": "markdown",
      "metadata": {
        "id": "y8wPguTuPtwa"
      },
      "source": [
        "## Tokens"
      ]
    },
    {
      "cell_type": "markdown",
      "metadata": {
        "id": "LtVnsureHew-"
      },
      "source": [
        "What we've made so far is a cleaned up version of Austen's novel, stored in Python as a list of lines imported from the initial txt file. \n",
        "\n",
        "What we *want* for a word count analysis is a list of words.\n",
        "\n",
        "We'll use two specialized string methods, \n",
        "string.join() and string.split() \n",
        "to recombine this text and split it into individual words, or 'tokens'."
      ]
    },
    {
      "cell_type": "code",
      "metadata": {
        "id": "SlSlOgMdV0zU",
        "colab": {
          "base_uri": "https://localhost:8080/"
        },
        "outputId": "c9cceca2-b81b-4181-b033-0253b16929f2"
      },
      "source": [
        "# The string.join() method fuses together a collection of text strings.\n",
        "# To use this method, first tell Python what to put in between the strings\n",
        "# In this case, we're using ' ', or a single blank space. \n",
        "# Put this separator in quotes, then add .join()\n",
        "# Inside the parentheses, provide the name of the list you want to join- \n",
        "# - in this case, the list of strings that is our text.\n",
        "\n",
        "Austen_pride = ' '.join(Austen_pride) \n",
        "\n",
        "# Printing the data type of this variable confirms \n",
        "# that we've successfully converted Austen_pride from a list to one long string.\n",
        "print(type(Austen_pride)) "
      ],
      "execution_count": null,
      "outputs": [
        {
          "output_type": "stream",
          "text": [
            "<class 'str'>\n"
          ],
          "name": "stdout"
        }
      ]
    },
    {
      "cell_type": "code",
      "metadata": {
        "id": "4vELL8ZGndCp",
        "colab": {
          "base_uri": "https://localhost:8080/"
        },
        "outputId": "c76aea8a-7b2b-45b4-cfd5-58e1c7bceade"
      },
      "source": [
        "# We can now re-separate this long string into a list of individual words by splitting the string on whitespace. \n",
        "# Here we pass the single space, ' ', inside the parentheses as the argument of this method.\n",
        "# Before the period, name the long string you want to split up - in this case, Austen_pride.\n",
        "\n",
        "#When we split the text into individual parts like this, we describe the parts as 'tokens'. (As we'll see below, tokens may not always be words.)\n",
        "\n",
        "Austen_tokens = Austen_pride.split(' ') # Split the long string into a list of parts by dividing on whitespace) \n",
        "print(Austen_tokens[:10]) # print the first ten tokens in the list of tokens we just made."
      ],
      "execution_count": null,
      "outputs": [
        {
          "output_type": "stream",
          "text": [
            "['It', 'is', 'a', 'truth', 'universally', 'acknowledged,', 'that', 'a', 'single', 'man']\n"
          ],
          "name": "stdout"
        }
      ]
    },
    {
      "cell_type": "code",
      "metadata": {
        "id": "u9EGhlzFovpK",
        "colab": {
          "base_uri": "https://localhost:8080/"
        },
        "outputId": "49e04007-5ee4-484b-ca8c-e4733086c6d9"
      },
      "source": [
        "# To better prepare this list for quantitative analysis, we'll also remove punctuation and whitespace.\n",
        "# Many Python libraries include punctuation lists, but here we'll write our own.\n",
        "# We'll also recast all the words in this list as lower case, using the string.lower() method.\n",
        "\n",
        "punct = [',', '.', ';', \"'\", '\"', '!', '(', ')', ':', '?', '*', ' ', '_'] # use a list of common punctuation you'd like to strip out\n",
        "clean_Austen_tokens = [] # create an empty list for the cleaned-up tokens\n",
        "for token in Austen_tokens: # loop through the list of tokens\n",
        "  for mark in punct: # look at each mark in the list 'punct'\n",
        "    while True: # We use a 'while' loop here to ensure that this process will continue until all punctuation is removed\n",
        "      if mark in token:\n",
        "        token = token.replace(mark, '') # remove any punctuation\n",
        "        continue # This repeats the loop to look for additional punctuation in each token\n",
        "      else: break  # When no punctuation remains, this loop ends\n",
        "  clean_Austen_tokens.append(token.lower()) # Now that the token is cleared of punctuation, we can add it to the clean_Austen_tokens list\n",
        "\n",
        "print(clean_Austen_tokens[0:10]) # print to verify this has worked as expected\n",
        " "
      ],
      "execution_count": null,
      "outputs": [
        {
          "output_type": "stream",
          "text": [
            "['it', 'is', 'a', 'truth', 'universally', 'acknowledged', 'that', 'a', 'single', 'man']\n"
          ],
          "name": "stdout"
        }
      ]
    },
    {
      "cell_type": "markdown",
      "metadata": {
        "id": "pRelesfl2_Od"
      },
      "source": [
        "## Run a simple word count for this full document - 2 ways"
      ]
    },
    {
      "cell_type": "markdown",
      "metadata": {
        "id": "hUbk5fT-7Isv"
      },
      "source": [
        "### 1. Building a simple counter"
      ]
    },
    {
      "cell_type": "code",
      "metadata": {
        "id": "NQDoo0Fi0-wv",
        "colab": {
          "base_uri": "https://localhost:8080/"
        },
        "outputId": "81f935ea-f9e6-4329-dfb7-03390bf03893"
      },
      "source": [
        "# Now let's count some words.\n",
        "# One very simple way to do this is to create a counter variable and set its initial value to 0,\n",
        "# then add 1 each time we find another iteration of our word.\n",
        "\n",
        "counter = 0\n",
        "\n",
        "for word in clean_Austen_tokens:\n",
        "  if word == 'she':\n",
        "    counter += 1  # This notation 'counter +=' is shorthand for 'counter = counter + 1' adding 1 to the value of the counter\n",
        "\n",
        "print('The word \\'she\\' appears ' +str(counter) + ' times in this text.')\n"
      ],
      "execution_count": null,
      "outputs": [
        {
          "output_type": "stream",
          "text": [
            "The word 'she' appears 1694 times in this text.\n"
          ],
          "name": "stdout"
        }
      ]
    },
    {
      "cell_type": "markdown",
      "metadata": {
        "id": "GJ5VQ6_m7bT6"
      },
      "source": [
        "### Building a dictionary of word counts"
      ]
    },
    {
      "cell_type": "code",
      "metadata": {
        "id": "_yW80Z1z1pIS"
      },
      "source": [
        "# To count *all* the words in this document, we can use a dictionary.\n",
        "# Recall that a Python dictionary stores data in key-value pairs; \n",
        "# We'll enter each word as a key; the corresponding value will be the word count.\n",
        "\n",
        "Austen_words_dict = {} # start with an empty dictionary\n",
        "for word in clean_Austen_tokens:\n",
        "  if len(word) >=1: # skip any blank tokens \n",
        "    if word in Austen_words_dict.keys(): # if the word already exists as a key in our dictionary-\n",
        "      Austen_words_dict[word] += 1         #  -we'll add 1 to its assigned value.      \n",
        "    else:\n",
        "      Austen_words_dict[word] = 1 # if the word isn't in the dictionary, we'll add it as a key with the initial value of 1"
      ],
      "execution_count": null,
      "outputs": []
    },
    {
      "cell_type": "code",
      "metadata": {
        "id": "zueXjlwFJiI5",
        "colab": {
          "base_uri": "https://localhost:8080/"
        },
        "outputId": "9a82e76d-d5b0-4c6a-fdde-421bab9c4542"
      },
      "source": [
        "# Search for a word in the dictionary of word counts: \n",
        "# Use the dictionary.get() method below - \n",
        "# the first item in parentheses is the key you want to find; \n",
        "# the second item tells Python what to print if your key isn't found.\n",
        "\n",
        "Austen_words_dict.get('he', 'not found')\n"
      ],
      "execution_count": null,
      "outputs": [
        {
          "output_type": "execute_result",
          "data": {
            "text/plain": [
              "1321"
            ]
          },
          "metadata": {},
          "execution_count": 23
        }
      ]
    },
    {
      "cell_type": "code",
      "metadata": {
        "id": "ZFOIQiA-liWo",
        "colab": {
          "base_uri": "https://localhost:8080/"
        },
        "outputId": "dfc40e7d-f2b8-448c-c162-67103f5832cb"
      },
      "source": [
        "# The word count dictionary is versatile.\n",
        "# Here, use the input() function to search for a few more word counts\n",
        "\n",
        "search_word = input('What word would you like to count? ')\n",
        "print('The count for that word is:', Austen_words_dict.get(search_word, 'zero'))"
      ],
      "execution_count": null,
      "outputs": [
        {
          "output_type": "stream",
          "text": [
            "What word would you like to count? there\n",
            "The count for that word is: 347\n"
          ],
          "name": "stdout"
        }
      ]
    },
    {
      "cell_type": "code",
      "metadata": {
        "id": "D9Gp4Hy35ed2",
        "colab": {
          "base_uri": "https://localhost:8080/"
        },
        "outputId": "54b1d786-fe1b-4a0f-c927-f5a4be84bad7"
      },
      "source": [
        "# To find the most frequently- and infrequently-occurring words in this document, \n",
        "# we can make a list of all dictionary items and sort them by value. \n",
        "\n",
        "frequent_words = [] # make an empty list to receive the items in this dictionary.\n",
        "\n",
        "for key, value in Austen_words_dict.items(): \n",
        "  frequent_words.append((value, key)) # Iterate through the dictionary and add the keys and values to our new list.\n",
        "                                      # Note that we're adding the value first here, so we can easily sort on this number in the next step.\n",
        "\n",
        "            # In the code above, note that we put parentheses around (key, value) to indicate that this pair should be handled as one unit. \n",
        "            # If you're interested, this is a particular Python data type called a 'tuple'. \n",
        "\n",
        "# Here we use sorted() to sort the list we just made. \n",
        "# We sort the list in reverse order, so the largest numbers come first. \n",
        "                                            \n",
        "frequent_words = sorted(frequent_words, reverse = True)  \n",
        "\n",
        "print(frequent_words[:10]) # Here are the top ten words"
      ],
      "execution_count": null,
      "outputs": [
        {
          "output_type": "stream",
          "text": [
            "[(4319, 'the'), (4123, 'to'), (3615, 'of'), (3513, 'and'), (2210, 'her'), (2011, 'i'), (1921, 'a'), (1865, 'in'), (1845, 'was'), (1694, 'she')]\n"
          ],
          "name": "stdout"
        }
      ]
    },
    {
      "cell_type": "markdown",
      "metadata": {
        "id": "8fm99lqn3I5p"
      },
      "source": [
        "## Filter stopwords and  display 10 most common words in text"
      ]
    },
    {
      "cell_type": "markdown",
      "metadata": {
        "id": "uoQG-FFOTpaZ"
      },
      "source": [
        "### Stopwords \n",
        "\n",
        "Unsurprisingly, the most frequently occurring words in this text are rather uninteresting functional words like 'the', 'to', 'of', etc. In text analysis, these are called \"stopwords\" - sometimes we want to include them in an analysis, and sometimes we don't. \n",
        "\n",
        "If you want to filter out stopwords, here's one way to do it:"
      ]
    },
    {
      "cell_type": "code",
      "metadata": {
        "id": "4zvoS1lRX8vH",
        "colab": {
          "resources": {
            "http://localhost:8080/nbextensions/google.colab/files.js": {
              "data": "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",
              "ok": true,
              "headers": [
                [
                  "content-type",
                  "application/javascript"
                ]
              ],
              "status": 200,
              "status_text": ""
            }
          },
          "base_uri": "https://localhost:8080/",
          "height": 72
        },
        "outputId": "3c8ba50a-073f-4edb-b702-fe678e9c9173"
      },
      "source": [
        "# Many Python libraries include stopwords lists, but for the moment we'll import one from a txt file\n",
        "# Run the Colab upload code, and upload the file engl_stopwords:\n",
        "\n",
        "uploaded = files.upload()"
      ],
      "execution_count": null,
      "outputs": [
        {
          "output_type": "display_data",
          "data": {
            "text/html": [
              "\n",
              "     <input type=\"file\" id=\"files-5bf91a6a-13bf-4346-9ad0-41b4da09133c\" name=\"files[]\" multiple disabled\n",
              "        style=\"border:none\" />\n",
              "     <output id=\"result-5bf91a6a-13bf-4346-9ad0-41b4da09133c\">\n",
              "      Upload widget is only available when the cell has been executed in the\n",
              "      current browser session. Please rerun this cell to enable.\n",
              "      </output>\n",
              "      <script src=\"/nbextensions/google.colab/files.js\"></script> "
            ],
            "text/plain": [
              "<IPython.core.display.HTML object>"
            ]
          },
          "metadata": {}
        },
        {
          "output_type": "stream",
          "text": [
            "Saving engl_stopwords.txt to engl_stopwords.txt\n"
          ],
          "name": "stdout"
        }
      ]
    },
    {
      "cell_type": "code",
      "metadata": {
        "id": "huSiAkG88Pr9",
        "colab": {
          "base_uri": "https://localhost:8080/"
        },
        "outputId": "88e24344-5eb4-4620-ad26-f8566ea37707"
      },
      "source": [
        "with open('engl_stopwords.txt', 'r') as f:  \n",
        "  english_stopwords = f.read()  # Recall that file.read() imports the text as one long string.\n",
        "english_stopwords = english_stopwords.split(', ') # create a list of words from the long document string by spitting on ', ' (comma and space)\n",
        "pprint(english_stopwords) # pretty-print the stopwords list to see what's included."
      ],
      "execution_count": null,
      "outputs": [
        {
          "output_type": "stream",
          "text": [
            "['i',\n",
            " 'me',\n",
            " 'my',\n",
            " 'myself',\n",
            " 'we',\n",
            " 'our',\n",
            " 'ours',\n",
            " 'ourselves',\n",
            " 'you',\n",
            " 'your',\n",
            " 'yours',\n",
            " 'yourself',\n",
            " 'yourselves',\n",
            " 'he',\n",
            " 'him',\n",
            " 'his',\n",
            " 'himself',\n",
            " 'she',\n",
            " 'her',\n",
            " 'hers',\n",
            " 'herself',\n",
            " 'it',\n",
            " 'its',\n",
            " 'itself',\n",
            " 'they',\n",
            " 'them',\n",
            " 'their',\n",
            " 'theirs',\n",
            " 'themselves',\n",
            " 'what',\n",
            " 'which',\n",
            " 'who',\n",
            " 'whom',\n",
            " 'this',\n",
            " 'that',\n",
            " 'these',\n",
            " 'those',\n",
            " 'am',\n",
            " 'is',\n",
            " 'are',\n",
            " 'was',\n",
            " 'were',\n",
            " 'be',\n",
            " 'been',\n",
            " 'being',\n",
            " 'have',\n",
            " 'has',\n",
            " 'had',\n",
            " 'having',\n",
            " 'do',\n",
            " 'does',\n",
            " 'did',\n",
            " 'doing',\n",
            " 'a',\n",
            " 'an',\n",
            " 'the',\n",
            " 'and',\n",
            " 'but',\n",
            " 'if',\n",
            " 'or',\n",
            " 'because',\n",
            " 'as',\n",
            " 'until',\n",
            " 'while',\n",
            " 'of',\n",
            " 'at',\n",
            " 'by',\n",
            " 'for',\n",
            " 'with',\n",
            " 'about',\n",
            " 'against',\n",
            " 'between',\n",
            " 'into',\n",
            " 'through',\n",
            " 'during',\n",
            " 'before',\n",
            " 'after',\n",
            " 'above',\n",
            " 'below',\n",
            " 'to',\n",
            " 'from',\n",
            " 'up',\n",
            " 'down',\n",
            " 'in',\n",
            " 'out',\n",
            " 'on',\n",
            " 'off',\n",
            " 'over',\n",
            " 'under',\n",
            " 'again',\n",
            " 'further',\n",
            " 'then',\n",
            " 'once',\n",
            " 'here',\n",
            " 'there',\n",
            " 'when',\n",
            " 'where',\n",
            " 'why',\n",
            " 'how',\n",
            " 'all',\n",
            " 'any',\n",
            " 'both',\n",
            " 'each',\n",
            " 'few',\n",
            " 'more',\n",
            " 'most',\n",
            " 'other',\n",
            " 'some',\n",
            " 'such',\n",
            " 'no',\n",
            " 'nor',\n",
            " 'not',\n",
            " 'only',\n",
            " 'own',\n",
            " 'same',\n",
            " 'so',\n",
            " 'than',\n",
            " 'too',\n",
            " 'very',\n",
            " 's',\n",
            " 't',\n",
            " 'can',\n",
            " 'will',\n",
            " 'just',\n",
            " 'don',\n",
            " 'should',\n",
            " 'now']\n"
          ],
          "name": "stdout"
        }
      ]
    },
    {
      "cell_type": "code",
      "metadata": {
        "id": "YfFXqiNjDemc"
      },
      "source": [
        "# Here we'll create a new Pride & Prejudice dictionary that excludes words from the stopwords list\n",
        "\n",
        "Austen_words_filtered = {} \n",
        "for k, v in Austen_words_dict.items(): # Iterate though each key-value pair  \n",
        "  if k not in english_stopwords: # Ensure that the key is not a stopword\n",
        "    Austen_words_filtered[k] = v # Set the key and value as items in the new dictionary\n",
        "\n",
        "# Again, here we create a list of dictionary items and sort them in reverse order to get the largest values first\n",
        "\n",
        "word_count = []\n",
        "for (key,value) in Austen_words_filtered.items():\n",
        "  word_count.append((value, key)) \n",
        "\n",
        "sorted_count = sorted(word_count, reverse = True) "
      ],
      "execution_count": null,
      "outputs": []
    },
    {
      "cell_type": "code",
      "metadata": {
        "id": "WSFTfWxAY3_x",
        "colab": {
          "base_uri": "https://localhost:8080/"
        },
        "outputId": "9cfd94c9-4270-4dd9-a2db-96c3972b1f2d"
      },
      "source": [
        "pprint(sorted_count[:10])"
      ],
      "execution_count": null,
      "outputs": [
        {
          "output_type": "stream",
          "text": [
            "[(772, 'mr'),\n",
            " (585, 'elizabeth'),\n",
            " (522, 'could'),\n",
            " (467, 'would'),\n",
            " (396, 'said'),\n",
            " (365, 'darcy'),\n",
            " (342, 'mrs'),\n",
            " (328, 'much'),\n",
            " (308, 'must'),\n",
            " (292, 'bennet')]\n"
          ],
          "name": "stdout"
        }
      ]
    },
    {
      "cell_type": "markdown",
      "metadata": {
        "id": "OzKhotzytTPF"
      },
      "source": [
        "### Create a simple chart of 10 most common words"
      ]
    },
    {
      "cell_type": "code",
      "metadata": {
        "id": "cvsdak30autG",
        "colab": {
          "base_uri": "https://localhost:8080/",
          "height": 499
        },
        "outputId": "c7485682-3615-4634-88b0-91e9cd4b9521"
      },
      "source": [
        "# Now that we've found our 10 most frequent words, \n",
        "# let's create a simple bar chart to compare them:\n",
        "\n",
        "x = [] # list of values for the x-axis - \n",
        "y = [] # list of values for the y-axis\n",
        "for (v, k) in sorted_count[:10]:\n",
        "  x.append(k)\n",
        "  y.append(v)\n",
        "plt.figure(figsize=(10,8))\n",
        "plt.bar(x, y)\n",
        "plt.title('Most common words in Pride & Prejudice')\n",
        "plt.show()"
      ],
      "execution_count": null,
      "outputs": [
        {
          "output_type": "display_data",
          "data": {
            "image/png": "[encoded data removed]",
            "text/plain": [
              "<Figure size 720x576 with 1 Axes>"
            ]
          },
          "metadata": {
            "needs_background": "light"
          }
        }
      ]
    },
    {
      "cell_type": "markdown",
      "metadata": {
        "id": "2-O_RxpOJvcI"
      },
      "source": [
        "# Text Analysis Part II: Working with NLTK\n",
        "\n",
        "In the previous section, we used fairly simple computational methods to read, clean, tokenize, filter, and plot the words in this text. \n",
        "\n",
        "As it happens, Python has an entire mini-universe of libraries, packages, and tools for natural langauge processing (NLP). It's called **NLTK**, which stands for Natural Language ToolKit, and it can expedite everything we just did.\n",
        "\n"
      ]
    },
    {
      "cell_type": "markdown",
      "metadata": {
        "id": "Vp5pyPXUnZCR"
      },
      "source": [
        "\n",
        "We'll start the NLTK exploration with another Austen text. Let's check out the structure, clean some chapter headings, and recast the lines as a string before we proceed."
      ]
    },
    {
      "cell_type": "code",
      "metadata": {
        "id": "0ALOBliOe8Hc",
        "colab": {
          "resources": {
            "http://localhost:8080/nbextensions/google.colab/files.js": {
              "data": "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",
              "ok": true,
              "headers": [
                [
                  "content-type",
                  "application/javascript"
                ]
              ],
              "status": 200,
              "status_text": ""
            }
          },
          "base_uri": "https://localhost:8080/",
          "height": 72
        },
        "outputId": "54b3d31d-c2f3-476d-b076-20363877c5e0"
      },
      "source": [
        "# First, upload the file Austen_emma.txt:\n",
        "\n",
        "uploaded = files.upload()"
      ],
      "execution_count": null,
      "outputs": [
        {
          "output_type": "display_data",
          "data": {
            "text/html": [
              "\n",
              "     <input type=\"file\" id=\"files-e306296f-897e-4d2b-ad05-cb4fc7f436d7\" name=\"files[]\" multiple disabled\n",
              "        style=\"border:none\" />\n",
              "     <output id=\"result-e306296f-897e-4d2b-ad05-cb4fc7f436d7\">\n",
              "      Upload widget is only available when the cell has been executed in the\n",
              "      current browser session. Please rerun this cell to enable.\n",
              "      </output>\n",
              "      <script src=\"/nbextensions/google.colab/files.js\"></script> "
            ],
            "text/plain": [
              "<IPython.core.display.HTML object>"
            ]
          },
          "metadata": {}
        },
        {
          "output_type": "stream",
          "text": [
            "Saving Austen_emma.txt to Austen_emma.txt\n"
          ],
          "name": "stdout"
        }
      ]
    },
    {
      "cell_type": "code",
      "metadata": {
        "id": "LpQtIjH2dEJB",
        "colab": {
          "base_uri": "https://localhost:8080/"
        },
        "outputId": "1d44cb7e-cc30-48d7-af21-98751c51ca6b"
      },
      "source": [
        "with open('Austen_emma.txt', 'r') as f:\n",
        "  Austen_emma = []\n",
        "  for line in f.readlines():\n",
        "    Austen_emma.append(line.strip())\n",
        "  \n",
        "pprint(Austen_emma[:10])"
      ],
      "execution_count": null,
      "outputs": [
        {
          "output_type": "stream",
          "text": [
            "['VOLUME I',\n",
            " '',\n",
            " '',\n",
            " '',\n",
            " 'CHAPTER I',\n",
            " '',\n",
            " '',\n",
            " 'Emma Woodhouse, handsome, clever, and rich, with a comfortable home',\n",
            " 'and happy disposition, seemed to unite some of the best blessings of',\n",
            " 'existence; and had lived nearly twenty-one years in the world with very']\n"
          ],
          "name": "stdout"
        }
      ]
    },
    {
      "cell_type": "code",
      "metadata": {
        "id": "rerPq5--kdVz",
        "colab": {
          "base_uri": "https://localhost:8080/"
        },
        "outputId": "9135fd63-f396-4774-b330-51839cd709cc"
      },
      "source": [
        "# Again, let's see what's up with the Volume and Chapter headers:\n",
        "\n",
        "for line in Austen_emma:\n",
        "  if 'VOL' in line:\n",
        "    print(line)\n",
        "  if 'CHAPTER' in line:\n",
        "    print(line)"
      ],
      "execution_count": null,
      "outputs": [
        {
          "output_type": "stream",
          "text": [
            "VOLUME I\n",
            "CHAPTER I\n",
            "CHAPTER II\n",
            "CHAPTER III\n",
            "CHAPTER IV\n",
            "CHAPTER V\n",
            "CHAPTER VI\n",
            "CHAPTER VII\n",
            "CHAPTER VIII\n",
            "CHAPTER IX\n",
            "CHAPTER X\n",
            "CHAPTER XI\n",
            "CHAPTER XII\n",
            "CHAPTER XIII\n",
            "CHAPTER XIV\n",
            "CHAPTER XV\n",
            "CHAPTER XVI\n",
            "CHAPTER XVII\n",
            "CHAPTER XVIII\n",
            "VOLUME II\n",
            "CHAPTER I\n",
            "CHAPTER II\n",
            "CHAPTER III\n",
            "CHAPTER IV\n",
            "CHAPTER V\n",
            "CHAPTER VI\n",
            "CHAPTER VII\n",
            "CHAPTER VIII\n",
            "CHAPTER IX\n",
            "CHAPTER X\n",
            "CHAPTER XI\n",
            "CHAPTER XII\n",
            "CHAPTER XIII\n",
            "CHAPTER XIV\n",
            "CHAPTER XV\n",
            "CHAPTER XVI\n",
            "CHAPTER XVII\n",
            "CHAPTER XVIII\n",
            "VOLUME III\n",
            "CHAPTER I\n",
            "CHAPTER II\n",
            "CHAPTER III\n",
            "CHAPTER IV\n",
            "CHAPTER V\n",
            "CHAPTER VI\n",
            "CHAPTER VII\n",
            "CHAPTER VIII\n",
            "CHAPTER IX\n",
            "CHAPTER X\n",
            "CHAPTER XI\n",
            "CHAPTER XII\n",
            "CHAPTER XIII\n",
            "CHAPTER XIV\n",
            "CHAPTER XV\n",
            "CHAPTER XVI\n",
            "CHAPTER XVII\n",
            "CHAPTER XVIII\n",
            "CHAPTER XIX\n"
          ],
          "name": "stdout"
        }
      ]
    },
    {
      "cell_type": "code",
      "metadata": {
        "id": "ljrsciWSkrRG"
      },
      "source": [
        "# And, again, let's remove those headers from our text:\n",
        "for line in Austen_emma:\n",
        "  if 'VOL' in line:\n",
        "    Austen_emma.remove(line)\n",
        "  if 'CHAPTER' in line:\n",
        "    Austen_emma.remove(line)\n",
        "  if len(line) < 1:\n",
        "    Austen_emma.remove(line)"
      ],
      "execution_count": null,
      "outputs": []
    },
    {
      "cell_type": "code",
      "metadata": {
        "id": "_NIqfe4Tk1He",
        "colab": {
          "base_uri": "https://localhost:8080/"
        },
        "outputId": "81283aae-7dc4-429c-c5b6-257849b79d8e"
      },
      "source": [
        "pprint(Austen_emma[:10])"
      ],
      "execution_count": null,
      "outputs": [
        {
          "output_type": "stream",
          "text": [
            "['Emma Woodhouse, handsome, clever, and rich, with a comfortable home',\n",
            " 'and happy disposition, seemed to unite some of the best blessings of',\n",
            " 'existence; and had lived nearly twenty-one years in the world with very',\n",
            " 'little to distress or vex her.',\n",
            " 'She was the youngest of the two daughters of a most affectionate,',\n",
            " \"indulgent father; and had, in consequence of her sister's marriage, been\",\n",
            " 'mistress of his house from a very early period. Her mother had died',\n",
            " 'too long ago for her to have more than an indistinct remembrance of',\n",
            " 'her caresses; and her place had been supplied by an excellent woman as',\n",
            " 'governess, who had fallen little short of a mother in affection.']\n"
          ],
          "name": "stdout"
        }
      ]
    },
    {
      "cell_type": "code",
      "metadata": {
        "id": "jrhNMP7SmIZ3",
        "colab": {
          "base_uri": "https://localhost:8080/"
        },
        "outputId": "29599101-c7ad-4405-d6eb-5128ad7eb131"
      },
      "source": [
        "# Again, we'll use string.join() to convert these lines into one long string: \n",
        "Austen_emma = ' '.join(Austen_emma) \n",
        "print(Austen_emma[0:10]) # see the first 10 characters of this string, to ensure this worked as expected"
      ],
      "execution_count": null,
      "outputs": [
        {
          "output_type": "stream",
          "text": [
            "Emma Woodh\n"
          ],
          "name": "stdout"
        }
      ]
    },
    {
      "cell_type": "markdown",
      "metadata": {
        "id": "oHynblRdzf6q"
      },
      "source": [
        "Before we continue to  NLTK methods, be sure you've imported NLTK to your Python environment."
      ]
    },
    {
      "cell_type": "code",
      "metadata": {
        "id": "Lt8bc7QHKIDs",
        "colab": {
          "base_uri": "https://localhost:8080/"
        },
        "outputId": "42e8d828-2495-404e-a039-e49ca200e213"
      },
      "source": [
        "## We ran this code above, but here's where it comes into play.\n",
        "\n",
        "import nltk # Import NLTK\n",
        "nltk.download('punkt') # This is a dependency that may need to be downloaded separately in Colab"
      ],
      "execution_count": null,
      "outputs": [
        {
          "output_type": "stream",
          "text": [
            "[nltk_data] Downloading package punkt to /root/nltk_data...\n",
            "[nltk_data]   Package punkt is already up-to-date!\n"
          ],
          "name": "stdout"
        },
        {
          "output_type": "execute_result",
          "data": {
            "text/plain": [
              "True"
            ]
          },
          "metadata": {},
          "execution_count": 37
        }
      ]
    },
    {
      "cell_type": "markdown",
      "metadata": {
        "id": "wbKdNBe0visB"
      },
      "source": [
        "## Tokenize with NLTK\n",
        "\n",
        "NLTK offers multiple ways to tokenize a text. Here are a few examples. Try them out and see how they work. "
      ]
    },
    {
      "cell_type": "code",
      "metadata": {
        "id": "-m36vxjWJ0NQ",
        "colab": {
          "base_uri": "https://localhost:8080/"
        },
        "outputId": "a02ccc24-4643-4b54-dd91-7b6f70b965c5"
      },
      "source": [
        "Austen_emma_tokens = [] \n",
        "\n",
        "# Here we use the nltk.tokenize() method, which separates words:\n",
        "\n",
        "emma_tokens = nltk.word_tokenize(Austen_emma) # call the nltk.wordpunct_tokenize() method on our text\n",
        "for token in emma_tokens: # iterate through the list of tokens\n",
        "  Austen_emma_tokens.append(token.lower()) # add an all-lower-case version of the token to our new list, Austen_tokens_1\n",
        "\n",
        "print(Austen_emma_tokens[:5]) # See how this worked"
      ],
      "execution_count": null,
      "outputs": [
        {
          "output_type": "stream",
          "text": [
            "['emma', 'woodhouse', ',', 'handsome', ',']\n"
          ],
          "name": "stdout"
        }
      ]
    },
    {
      "cell_type": "code",
      "metadata": {
        "id": "6YMENiXtgszm",
        "colab": {
          "base_uri": "https://localhost:8080/"
        },
        "outputId": "78079220-8f19-4380-f247-439cad2c704f"
      },
      "source": [
        "# There's also a method to separate sentences \n",
        "# according to nltk's best guess about where sentences begin and end.\n",
        "# See what nltk.sent_tokenize() does.\n",
        "\n",
        "emma_tokens_version_2 = []\n",
        "for token in nltk.sent_tokenize(Austen_emma):\n",
        "  emma_tokens_version_2.append(token.lower())\n",
        "pprint(emma_tokens_version_2[:5])"
      ],
      "execution_count": null,
      "outputs": [
        {
          "output_type": "stream",
          "text": [
            "['emma woodhouse, handsome, clever, and rich, with a comfortable home and '\n",
            " 'happy disposition, seemed to unite some of the best blessings of existence; '\n",
            " 'and had lived nearly twenty-one years in the world with very little to '\n",
            " 'distress or vex her.',\n",
            " 'she was the youngest of the two daughters of a most affectionate, indulgent '\n",
            " \"father; and had, in consequence of her sister's marriage, been mistress of \"\n",
            " 'his house from a very early period.',\n",
            " 'her mother had died too long ago for her to have more than an indistinct '\n",
            " 'remembrance of her caresses; and her place had been supplied by an excellent '\n",
            " 'woman as governess, who had fallen little short of a mother in affection.',\n",
            " \"sixteen years had miss taylor been in mr. woodhouse's family, less as a \"\n",
            " 'governess than a friend, very fond of both daughters, but particularly of '\n",
            " 'emma.',\n",
            " 'between _them_ it was more the intimacy of sisters.']\n"
          ],
          "name": "stdout"
        }
      ]
    },
    {
      "cell_type": "markdown",
      "metadata": {
        "id": "gfm_qFDMybEl"
      },
      "source": [
        "For now, let's continue working with the word_tokenize() version, Austen_emma_tokens. \n"
      ]
    },
    {
      "cell_type": "markdown",
      "metadata": {
        "id": "vFYTrQam0CEt"
      },
      "source": [
        "\n",
        "## Stopwords in NLTK\n",
        "\n",
        "NLTK includes a built-in library of stopwords lists. We can easily access this to get an English stopwords filter. "
      ]
    },
    {
      "cell_type": "code",
      "metadata": {
        "id": "11pSS4vvOcMA",
        "colab": {
          "base_uri": "https://localhost:8080/"
        },
        "outputId": "cff6082c-b1da-45d9-8f0a-ef49af28f0ca"
      },
      "source": [
        "nltk.download('stopwords') # Ensure that we have access to the lists of stopwords\n",
        "\n",
        "stopword_list = nltk.corpus.stopwords.words('english') # This method is associated with the 'corpus' package in NLTK - a package of tools for working with large bodies of text\n",
        "print(stopword_list[:10]) # Let's see what some of these stopwords are..."
      ],
      "execution_count": null,
      "outputs": [
        {
          "output_type": "stream",
          "text": [
            "[nltk_data] Downloading package stopwords to /root/nltk_data...\n",
            "[nltk_data]   Unzipping corpora/stopwords.zip.\n",
            "['i', 'me', 'my', 'myself', 'we', 'our', 'ours', 'ourselves', 'you', \"you're\"]\n"
          ],
          "name": "stdout"
        }
      ]
    },
    {
      "cell_type": "code",
      "metadata": {
        "id": "6a6lB4zwRqnd"
      },
      "source": [
        "# Python also includes a built-in list of common punctuation marks that we can add to our stopwords list:\n",
        "\n",
        "import string # import this package to get access to the punctuation list"
      ],
      "execution_count": null,
      "outputs": []
    },
    {
      "cell_type": "code",
      "metadata": {
        "id": "H_c3TeuaOtfc",
        "colab": {
          "base_uri": "https://localhost:8080/"
        },
        "outputId": "da576216-f984-441b-8651-b81740327539"
      },
      "source": [
        "print(string.punctuation) # see what this collection of punctuation marks looks like"
      ],
      "execution_count": null,
      "outputs": [
        {
          "output_type": "stream",
          "text": [
            "!\"#$%&'()*+,-./:;<=>?@[\\]^_`{|}~\n"
          ],
          "name": "stdout"
        }
      ]
    },
    {
      "cell_type": "code",
      "metadata": {
        "id": "xSJXSFe8OsRQ",
        "colab": {
          "base_uri": "https://localhost:8080/"
        },
        "outputId": "64590a99-4545-465f-c151-15b5fff3b12d"
      },
      "source": [
        "# Once you've defined your list of stopwords, \n",
        "# you can add to it however you like using .extend()\n",
        "# Here we add a punctuation list, and also a custom list \n",
        "# of character combinations we want to fiter out of our text. \n",
        "\n",
        "stopword_list.extend(string.punctuation)\n",
        "custom_stop_list = [\"''\", \"``\", '``','--', '\\'s', '']\n",
        "stopword_list.extend(custom_stop_list)\n",
        "print(stopword_list[:5])"
      ],
      "execution_count": null,
      "outputs": [
        {
          "output_type": "stream",
          "text": [
            "['i', 'me', 'my', 'myself', 'we']\n"
          ],
          "name": "stdout"
        }
      ]
    },
    {
      "cell_type": "code",
      "metadata": {
        "id": "5fo7n2MpSKDY",
        "colab": {
          "base_uri": "https://localhost:8080/"
        },
        "outputId": "e5a77899-fb37-43d5-cb98-94502616ecde"
      },
      "source": [
        "# Another very helpful Python tool for cleaning text is the string method .isalpha() \n",
        "# This scans a string and returns True if the string includes \n",
        "# only alphabetical characters, False if it includes anything else. \n",
        "\n",
        "# Here's an example of how .isalpha() works:\n",
        "token_test = ['Nope!', 'n0pe', 'yep', ' , ']\n",
        "for item in token_test: \n",
        "  if item.isalpha():\n",
        "    print(item)\n"
      ],
      "execution_count": null,
      "outputs": [
        {
          "output_type": "stream",
          "text": [
            "yep\n"
          ],
          "name": "stdout"
        }
      ]
    },
    {
      "cell_type": "code",
      "metadata": {
        "id": "aB9ip5OZ2z2I",
        "colab": {
          "base_uri": "https://localhost:8080/"
        },
        "outputId": "c7f46e6d-d448-4e0a-f8fa-da9ba587e237"
      },
      "source": [
        "# Here we use both the stopword list and .isalpha() to filter our Austen_tokens:\n",
        "\n",
        "Austen_emma_filtered = []\n",
        "for token in Austen_emma_tokens:\n",
        "  if token not in stopword_list and token.isalpha():\n",
        "    Austen_emma_filtered.append(token)\n",
        "\n",
        "print(Austen_emma_filtered[:10])"
      ],
      "execution_count": null,
      "outputs": [
        {
          "output_type": "stream",
          "text": [
            "['emma', 'woodhouse', 'handsome', 'clever', 'rich', 'comfortable', 'home', 'happy', 'disposition', 'seemed']\n"
          ],
          "name": "stdout"
        }
      ]
    },
    {
      "cell_type": "markdown",
      "metadata": {
        "id": "FVjY6wWnNfxy"
      },
      "source": [
        "## NLTK Frequency Distribution and most common word lists"
      ]
    },
    {
      "cell_type": "code",
      "metadata": {
        "id": "qwUugSmYLrQy"
      },
      "source": [
        "# NLTK has a handy method called FreqDist() for finding \n",
        "# a frequency distribution of words throughout a text: \n",
        "\n",
        "Austen_emma_freq = nltk.FreqDist(Austen_emma_filtered)"
      ],
      "execution_count": null,
      "outputs": []
    },
    {
      "cell_type": "code",
      "metadata": {
        "id": "rPX9pK2LLwsx",
        "colab": {
          "base_uri": "https://localhost:8080/"
        },
        "outputId": "a850be09-4f08-4033-b87c-df4769799f51"
      },
      "source": [
        "# NLTK also has a method called most_common()\n",
        "# for finding the most_common words from that frequency list:\n",
        "\n",
        "# You can run most_common as a method on your frequency distribution set. \n",
        "# Inside the parentheses, pass the number of top-ranked tokens you want to see:\n",
        "\n",
        "Austen_emma_freq.most_common(3) # This returns the top 3 words, along with their word counts"
      ],
      "execution_count": null,
      "outputs": [
        {
          "output_type": "execute_result",
          "data": {
            "text/plain": [
              "[('emma', 854), ('could', 833), ('would', 815)]"
            ]
          },
          "metadata": {},
          "execution_count": 47
        }
      ]
    },
    {
      "cell_type": "code",
      "metadata": {
        "id": "mQdaQYnmcgi8",
        "colab": {
          "base_uri": "https://localhost:8080/"
        },
        "outputId": "f72f2fe5-3638-437a-d523-d9d14bccc7d4"
      },
      "source": [
        "# Here we'll assign those most common words to a new list called 'common'\n",
        "# The result is similar to the sorted list of dictionary items we created in the first part of this lesson.\n",
        "\n",
        "emma_common = Austen_emma_freq.most_common() # assign the ranked words to a variable\n",
        "\n",
        "print(emma_common[:10]) # print the top 10 words\n",
        "print(emma_common[200]) # print the 200th most-common word"
      ],
      "execution_count": null,
      "outputs": [
        {
          "output_type": "stream",
          "text": [
            "[('emma', 854), ('could', 833), ('would', 815), ('miss', 597), ('must', 566), ('harriet', 494), ('much', 480), ('said', 480), ('one', 445), ('every', 434)]\n",
            "('general', 64)\n"
          ],
          "name": "stdout"
        }
      ]
    },
    {
      "cell_type": "code",
      "metadata": {
        "id": "lpnFAsGac0Ea",
        "colab": {
          "base_uri": "https://localhost:8080/",
          "height": 499
        },
        "outputId": "229dfad6-51ef-4034-caf7-81eca0ee5b00"
      },
      "source": [
        "# Create a bar graph overlay of the most common words from both texts\n",
        "\n",
        "# get values for Emma\n",
        "r = [] # create a list for x-axis values\n",
        "s = [] # create a list for y-axis values\n",
        "\n",
        "for (word, count) in emma_common[:10]: # iterate through the list of 10 most common words + their word counts\n",
        "  r.append(word) \n",
        "  s.append(count)\n",
        "\n",
        "# plot values, alongside those from Pride & Prejudice\n",
        "\n",
        "Books = ['Pride & Prejudice', 'Emma']\n",
        "plt.figure(figsize=(10, 8))\n",
        "plt.bar(r, s)\n",
        "plt.bar(x, y) # Recall that this is our plot of most common words in Pride & Prejudice\n",
        "plt.title('Most common words in Emma and Pride & Prejudice')\n",
        "plt.legend(Books,loc=1)\n",
        "plt.show()"
      ],
      "execution_count": null,
      "outputs": [
        {
          "output_type": "display_data",
          "data": {
            "image/png": "[encoded data removed]",
            "text/plain": [
              "<Figure size 720x576 with 1 Axes>"
            ]
          },
          "metadata": {
            "needs_background": "light"
          }
        }
      ]
    },
    {
      "cell_type": "markdown",
      "metadata": {
        "id": "3QTTkbVFc_-T"
      },
      "source": [
        "\n",
        "## Try this with your own text\n",
        "In the space below, read, clean, and find the 10 most common words in the text you downloaded from Gutenberg. Create as many new code cells as you need. \n",
        "\n",
        "Feel free to tweak your stopwords lists to filter out words you don't find interesting.\n",
        "\n",
        "Talk to your group about your findings."
      ]
    },
    {
      "cell_type": "markdown",
      "metadata": {
        "id": "OKBW1_2qOE_G"
      },
      "source": [
        "(Tip: it's perfectly fine to open your txt file, scan your text visually to figure out what's going on with it, and even do some preliminary cleaning before you pull it into your Python environment. Just be sure you **save your text in plain text UTF-8 format**.)"
      ]
    },
    {
      "cell_type": "code",
      "metadata": {
        "id": "GJWgo0qajG3R"
      },
      "source": [
        ""
      ],
      "execution_count": null,
      "outputs": []
    }
  ]
}